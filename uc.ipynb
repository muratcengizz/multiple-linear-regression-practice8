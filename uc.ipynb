{
 "cells": [
  {
   "cell_type": "markdown",
   "id": "a7d1f8ac-c140-4e50-93d1-dfeaf19baec9",
   "metadata": {},
   "source": [
    "### Hayvanat bahçesi işletmecileri ziyaretçi sayılarını tahmin etmek için bir makine öğrenimi modeli oluşturmak istiyorlar. Veri seti, hayvanların türleri, yaşları, cinsiyetleri, doğum tarihleri, doğum yerleri, yerli/ithal edilme durumları, beslenme alışkanlıkları, yaşam alanları ve özellikleri gibi özellikleri içeriyor. Ayrıca, her hayvan için günlük ziyaretçi sayılarının yanı sıra özel etkinlikler veya tatiller gibi faktörlere göre ziyaretçi sayıları da veri setine dahil edilmiştir.\n",
    "#### Veri seti, 1000 hayvanın bilgilerini ve 1 yıl boyunca günlük ziyaretçi sayılarını içerir. Ancak, eksik ve aykırı verilerin de yer aldığı gerçekçi bir veri seti oluşturmak için bazı verileri rastgele oluşturacağız."
   ]
  },
  {
   "cell_type": "code",
   "execution_count": 80,
   "id": "bac08b5d-e962-414c-b959-d0486b9c4511",
   "metadata": {},
   "outputs": [],
   "source": [
    "import numpy as np\n",
    "import pandas as pd\n",
    "import seaborn as sns"
   ]
  },
  {
   "cell_type": "code",
   "execution_count": 81,
   "id": "1c636d33-cc83-4092-bf6f-c878e6b4aaee",
   "metadata": {},
   "outputs": [
    {
     "data": {
      "text/html": [
       "<div>\n",
       "<style scoped>\n",
       "    .dataframe tbody tr th:only-of-type {\n",
       "        vertical-align: middle;\n",
       "    }\n",
       "\n",
       "    .dataframe tbody tr th {\n",
       "        vertical-align: top;\n",
       "    }\n",
       "\n",
       "    .dataframe thead th {\n",
       "        text-align: right;\n",
       "    }\n",
       "</style>\n",
       "<table border=\"1\" class=\"dataframe\">\n",
       "  <thead>\n",
       "    <tr style=\"text-align: right;\">\n",
       "      <th></th>\n",
       "      <th>ID</th>\n",
       "      <th>Species</th>\n",
       "      <th>Age</th>\n",
       "      <th>Sex</th>\n",
       "      <th>Birthplace</th>\n",
       "      <th>Diet</th>\n",
       "      <th>Habitat</th>\n",
       "      <th>Features</th>\n",
       "      <th>Date</th>\n",
       "      <th>Visitors</th>\n",
       "    </tr>\n",
       "  </thead>\n",
       "  <tbody>\n",
       "    <tr>\n",
       "      <th>0</th>\n",
       "      <td>3</td>\n",
       "      <td>Lion</td>\n",
       "      <td>14.0</td>\n",
       "      <td>Male</td>\n",
       "      <td>Imported</td>\n",
       "      <td>Herbivore</td>\n",
       "      <td>Arctic</td>\n",
       "      <td>Hairy</td>\n",
       "      <td>2022-02-25</td>\n",
       "      <td>161</td>\n",
       "    </tr>\n",
       "    <tr>\n",
       "      <th>1</th>\n",
       "      <td>10</td>\n",
       "      <td>Lion</td>\n",
       "      <td>30.0</td>\n",
       "      <td>Female</td>\n",
       "      <td>Imported</td>\n",
       "      <td>Herbivore</td>\n",
       "      <td>Rainforest</td>\n",
       "      <td>Spotted</td>\n",
       "      <td>2022-07-25</td>\n",
       "      <td>169</td>\n",
       "    </tr>\n",
       "    <tr>\n",
       "      <th>2</th>\n",
       "      <td>16</td>\n",
       "      <td>Tiger</td>\n",
       "      <td>30.0</td>\n",
       "      <td>Female</td>\n",
       "      <td>Local</td>\n",
       "      <td>Carnivore</td>\n",
       "      <td>Arctic</td>\n",
       "      <td>Trunk</td>\n",
       "      <td>2022-07-14</td>\n",
       "      <td>111</td>\n",
       "    </tr>\n",
       "    <tr>\n",
       "      <th>3</th>\n",
       "      <td>23</td>\n",
       "      <td>Giraffe</td>\n",
       "      <td>30.0</td>\n",
       "      <td>Male</td>\n",
       "      <td>Local</td>\n",
       "      <td>Carnivore</td>\n",
       "      <td>Arctic</td>\n",
       "      <td>Trunk</td>\n",
       "      <td>2022-05-26</td>\n",
       "      <td>1</td>\n",
       "    </tr>\n",
       "    <tr>\n",
       "      <th>4</th>\n",
       "      <td>25</td>\n",
       "      <td>Bear</td>\n",
       "      <td>52.0</td>\n",
       "      <td>Female</td>\n",
       "      <td>Local</td>\n",
       "      <td>Carnivore</td>\n",
       "      <td>Savannah</td>\n",
       "      <td>Spotted</td>\n",
       "      <td>2022-03-10</td>\n",
       "      <td>97</td>\n",
       "    </tr>\n",
       "  </tbody>\n",
       "</table>\n",
       "</div>"
      ],
      "text/plain": [
       "   ID  Species   Age     Sex Birthplace       Diet     Habitat Features  \\\n",
       "0   3     Lion  14.0    Male   Imported  Herbivore      Arctic    Hairy   \n",
       "1  10     Lion  30.0  Female   Imported  Herbivore  Rainforest  Spotted   \n",
       "2  16    Tiger  30.0  Female      Local  Carnivore      Arctic    Trunk   \n",
       "3  23  Giraffe  30.0    Male      Local  Carnivore      Arctic    Trunk   \n",
       "4  25     Bear  52.0  Female      Local  Carnivore    Savannah  Spotted   \n",
       "\n",
       "        Date  Visitors  \n",
       "0 2022-02-25       161  \n",
       "1 2022-07-25       169  \n",
       "2 2022-07-14       111  \n",
       "3 2022-05-26         1  \n",
       "4 2022-03-10        97  "
      ]
     },
     "execution_count": 81,
     "metadata": {},
     "output_type": "execute_result"
    }
   ],
   "source": [
    "animal_data = pd.DataFrame({\n",
    "    'ID': range(1000),\n",
    "    'Species': np.random.choice(['Tiger', 'Lion', 'Bear', 'Giraffe', 'Elephant'], size=1000),\n",
    "    'Age': np.random.normal(loc=10, scale=3, size=1000).astype(int),\n",
    "    'Sex': np.random.choice(['Male', 'Female'], size=1000),\n",
    "    'Birthplace': np.random.choice(['Local', 'Imported'], size=1000),\n",
    "    'Diet': np.random.choice(['Carnivore', 'Herbivore'], size=1000),\n",
    "    'Habitat': np.random.choice(['Savannah', 'Rainforest', 'Arctic', 'Desert'], size=1000),\n",
    "    'Features': np.random.choice(['Striped', 'Spotted', 'Hairy', 'Trunk'], size=1000)\n",
    "})\n",
    "\n",
    "visitor_data = pd.DataFrame({\n",
    "    'ID': np.random.choice(range(1000), size=365),\n",
    "    'Date': pd.date_range(start='2022-01-01', end='2022-12-31', freq='D'),\n",
    "    'Visitors': np.random.normal(loc=100, scale=50, size=365).astype(int)\n",
    "})\n",
    "\n",
    "\n",
    "zoo_data = animal_data.merge(visitor_data)\n",
    "\n",
    "zoo_data['Age'] = np.where(np.random.random() < 0.05, np.nan, zoo_data['Age'])\n",
    "zoo_data['Age'] = zoo_data['Age'] + np.random.randint(0, 50, size=zoo_data.shape[0])\n",
    "\n",
    "zoo_data['Visitors'] = zoo_data['Visitors'] + np.random.randint(-50, 50, size=zoo_data.shape[0])\n",
    "zoo_data['Visitors'] = np.where(zoo_data['Visitors'] < 0, 0, zoo_data['Visitors'])\n",
    "\n",
    "zoo_data.head()"
   ]
  },
  {
   "cell_type": "markdown",
   "id": "ccf7b1f0-653b-4707-813a-97718d21a388",
   "metadata": {},
   "source": [
    "# Hipotez Testleri"
   ]
  },
  {
   "cell_type": "markdown",
   "id": "ace3c4d1-a844-4317-8ea0-3e9fc341126f",
   "metadata": {},
   "source": [
    "# --------------------------------------------------------"
   ]
  },
  {
   "cell_type": "markdown",
   "id": "273bee93-d319-4e8d-9216-9b85e87d1ecb",
   "metadata": {},
   "source": [
    "### H0: Erkekler, hayvanat bahçesini kadınlardan daha fazla ziyaret etmiştir\n",
    "### H1: Erkekler, hayvanat bahçesini kadınlardan daha fazla ziyaret etmemiştir."
   ]
  },
  {
   "cell_type": "code",
   "execution_count": 82,
   "id": "08c2a1b2-9dcd-4c12-b09e-0321db17079e",
   "metadata": {},
   "outputs": [],
   "source": [
    "male_visitor = zoo_data.loc[zoo_data['Sex'] == 'Male', 'Visitors']\n",
    "female_visitor = zoo_data.loc[zoo_data['Sex'] == 'Female', 'Visitors']"
   ]
  },
  {
   "cell_type": "markdown",
   "id": "d12b640f-8f78-4aed-aa88-e9adef544570",
   "metadata": {},
   "source": [
    "#### Hangi hipotez testini kullanacağımıza varsayımlar üzerinden karar verelim. normallik varsayımı, homojenlik gibi varsayım çeşitlerini inceledikten sonra ortaya çıkan tabloya göre en uygun testi bulalım. Daha sonra hipotez testimizi gerçekleştirelim."
   ]
  },
  {
   "cell_type": "code",
   "execution_count": 83,
   "id": "39757f96-d51c-409b-9fe7-b403ba5d78d3",
   "metadata": {},
   "outputs": [
    {
     "data": {
      "image/png": "[encoded data removed]",
      "text/plain": [
       "<Figure size 432x288 with 1 Axes>"
      ]
     },
     "metadata": {
      "needs_background": "light"
     },
     "output_type": "display_data"
    }
   ],
   "source": [
    "# Normal Dağılım: İki örneklem 'de normal dağılıyor mu ?\n",
    "## Histogram grafiği ile bunu anlayabiliriz.\n",
    "\n",
    "sns.histplot(male_visitor);"
   ]
  },
  {
   "cell_type": "code",
   "execution_count": 84,
   "id": "f1a91d3a-1c49-47d4-b776-62a0c1dc27c8",
   "metadata": {},
   "outputs": [
    {
     "data": {
      "image/png": "[encoded data removed]",
      "text/plain": [
       "<Figure size 432x288 with 1 Axes>"
      ]
     },
     "metadata": {
      "needs_background": "light"
     },
     "output_type": "display_data"
    }
   ],
   "source": [
    "sns.histplot(female_visitor);"
   ]
  },
  {
   "cell_type": "markdown",
   "id": "f1bf9bac-2332-4c0b-9774-1ebe531ffb28",
   "metadata": {},
   "source": [
    "#### İki örneklem de normal dağılmıyor. Şimdi ise varyans homojenliği varsayımını inceleyelim. Bu varsayıma göre iki örneklemin de varyansı birbirine eşit olmalıdır."
   ]
  },
  {
   "cell_type": "code",
   "execution_count": 85,
   "id": "e659a766-3159-461a-80cd-ff545befd78f",
   "metadata": {},
   "outputs": [
    {
     "data": {
      "text/plain": [
       "3140.382700938392"
      ]
     },
     "execution_count": 85,
     "metadata": {},
     "output_type": "execute_result"
    }
   ],
   "source": [
    "male_visitor.var()"
   ]
  },
  {
   "cell_type": "code",
   "execution_count": 86,
   "id": "3f47cad4-2088-4444-902d-4683df18a18d",
   "metadata": {},
   "outputs": [
    {
     "data": {
      "text/plain": [
       "2822.424816493955"
      ]
     },
     "execution_count": 86,
     "metadata": {},
     "output_type": "execute_result"
    }
   ],
   "source": [
    "female_visitor.var()"
   ]
  },
  {
   "cell_type": "markdown",
   "id": "7f9fcb31-fd62-4d94-839c-f0fc5774fb5f",
   "metadata": {},
   "source": [
    "#### Varyans homojen değildir sonucuna ulaştık. Bir diğer varsayım ise bağımsız örneklem varsayımıdır. Bu varsayım, iki örneklemin de birbirinden farklı olması gerektiğini varsayar. Örneklemler birbirinden farklı olduğu için bağımsız örneklem varsayımı tutuyor."
   ]
  },
  {
   "cell_type": "markdown",
   "id": "aefa3d34-370d-4326-97ff-72451ff63c64",
   "metadata": {},
   "source": [
    "### Yukarıda incelediğimiz varsayımların bazıları sağlanmadığı için T-testi, Z-testi gibi parametrik hipotez testlerini uygulayamayız. Varsayımlar sağlanmadığı için Non-parametrik hipotez testi yapabiliriz. Bizim durumumuza uygun olan test ise Man Whitney U testi gibi gözüküyor."
   ]
  },
  {
   "cell_type": "code",
   "execution_count": 87,
   "id": "dc374cac-612e-4234-8a91-c4b1db25016a",
   "metadata": {},
   "outputs": [],
   "source": [
    "from scipy.stats import mannwhitneyu"
   ]
  },
  {
   "cell_type": "code",
   "execution_count": 88,
   "id": "d1d4c579-66b9-40ed-8588-d12b12421902",
   "metadata": {},
   "outputs": [
    {
     "name": "stdout",
     "output_type": "stream",
     "text": [
      "Test İstatistiği:  16961.5\n",
      "P-Value Değeri:  0.7182570138876019\n"
     ]
    }
   ],
   "source": [
    "stat, p_value = mannwhitneyu(male_visitor, female_visitor, method='auto')\n",
    "print('Test İstatistiği: ', stat)\n",
    "print('P-Value Değeri: ', p_value)"
   ]
  },
  {
   "cell_type": "markdown",
   "id": "9cce1537-5ef8-4398-8e41-a8cea3fa6985",
   "metadata": {},
   "source": [
    "### P-Value değeri, alfa değerinden (0.05) büyük olduğu için H0 hipotezini reddedemeyiz. Yani erkekler, hayvanat bahçesini kadınlardan daha fazla ziyaret etmiştir sonucuna ulaşıyoruz. Şimdi ise hipotez testimizin sonucunu basit bir yöntem ile test edelim."
   ]
  },
  {
   "cell_type": "code",
   "execution_count": 89,
   "id": "f4b0995a-602c-43a9-9f37-6ab79216f41f",
   "metadata": {},
   "outputs": [
    {
     "data": {
      "text/plain": [
       "Sex\n",
       "Female    193\n",
       "Male      172\n",
       "Name: Visitors, dtype: int64"
      ]
     },
     "execution_count": 89,
     "metadata": {},
     "output_type": "execute_result"
    }
   ],
   "source": [
    "zoo_data.groupby('Sex')['Visitors'].count()"
   ]
  },
  {
   "cell_type": "markdown",
   "id": "05e4dcc9-c6a6-474a-885b-574ddb970131",
   "metadata": {},
   "source": [
    "### Görüldüğü üzere hipotez testimizde ulaştığımız sonucun sağlamasını yapmış olduk. Erkekler, hayvanat bahçesini kadınlardan daha fazla ziyaret ediyorlar."
   ]
  },
  {
   "cell_type": "markdown",
   "id": "ae463754-a01a-48d0-a87e-11874c6bbb88",
   "metadata": {},
   "source": [
    "# -------------------------------------------------"
   ]
  },
  {
   "cell_type": "markdown",
   "id": "6a426035-8ee3-42a0-80c4-7fdfc1be9b0b",
   "metadata": {},
   "source": [
    "# Veri Analizi"
   ]
  },
  {
   "cell_type": "code",
   "execution_count": 90,
   "id": "950c1cd5-29e6-491d-a3d2-81391e0cc6a8",
   "metadata": {},
   "outputs": [
    {
     "data": {
      "text/html": [
       "<div>\n",
       "<style scoped>\n",
       "    .dataframe tbody tr th:only-of-type {\n",
       "        vertical-align: middle;\n",
       "    }\n",
       "\n",
       "    .dataframe tbody tr th {\n",
       "        vertical-align: top;\n",
       "    }\n",
       "\n",
       "    .dataframe thead th {\n",
       "        text-align: right;\n",
       "    }\n",
       "</style>\n",
       "<table border=\"1\" class=\"dataframe\">\n",
       "  <thead>\n",
       "    <tr style=\"text-align: right;\">\n",
       "      <th></th>\n",
       "      <th>ID</th>\n",
       "      <th>Species</th>\n",
       "      <th>Age</th>\n",
       "      <th>Sex</th>\n",
       "      <th>Birthplace</th>\n",
       "      <th>Diet</th>\n",
       "      <th>Habitat</th>\n",
       "      <th>Features</th>\n",
       "      <th>Date</th>\n",
       "      <th>Visitors</th>\n",
       "    </tr>\n",
       "  </thead>\n",
       "  <tbody>\n",
       "    <tr>\n",
       "      <th>0</th>\n",
       "      <td>3</td>\n",
       "      <td>Lion</td>\n",
       "      <td>14.0</td>\n",
       "      <td>Male</td>\n",
       "      <td>Imported</td>\n",
       "      <td>Herbivore</td>\n",
       "      <td>Arctic</td>\n",
       "      <td>Hairy</td>\n",
       "      <td>2022-02-25</td>\n",
       "      <td>161</td>\n",
       "    </tr>\n",
       "    <tr>\n",
       "      <th>1</th>\n",
       "      <td>10</td>\n",
       "      <td>Lion</td>\n",
       "      <td>30.0</td>\n",
       "      <td>Female</td>\n",
       "      <td>Imported</td>\n",
       "      <td>Herbivore</td>\n",
       "      <td>Rainforest</td>\n",
       "      <td>Spotted</td>\n",
       "      <td>2022-07-25</td>\n",
       "      <td>169</td>\n",
       "    </tr>\n",
       "    <tr>\n",
       "      <th>2</th>\n",
       "      <td>16</td>\n",
       "      <td>Tiger</td>\n",
       "      <td>30.0</td>\n",
       "      <td>Female</td>\n",
       "      <td>Local</td>\n",
       "      <td>Carnivore</td>\n",
       "      <td>Arctic</td>\n",
       "      <td>Trunk</td>\n",
       "      <td>2022-07-14</td>\n",
       "      <td>111</td>\n",
       "    </tr>\n",
       "    <tr>\n",
       "      <th>3</th>\n",
       "      <td>23</td>\n",
       "      <td>Giraffe</td>\n",
       "      <td>30.0</td>\n",
       "      <td>Male</td>\n",
       "      <td>Local</td>\n",
       "      <td>Carnivore</td>\n",
       "      <td>Arctic</td>\n",
       "      <td>Trunk</td>\n",
       "      <td>2022-05-26</td>\n",
       "      <td>1</td>\n",
       "    </tr>\n",
       "    <tr>\n",
       "      <th>4</th>\n",
       "      <td>25</td>\n",
       "      <td>Bear</td>\n",
       "      <td>52.0</td>\n",
       "      <td>Female</td>\n",
       "      <td>Local</td>\n",
       "      <td>Carnivore</td>\n",
       "      <td>Savannah</td>\n",
       "      <td>Spotted</td>\n",
       "      <td>2022-03-10</td>\n",
       "      <td>97</td>\n",
       "    </tr>\n",
       "  </tbody>\n",
       "</table>\n",
       "</div>"
      ],
      "text/plain": [
       "   ID  Species   Age     Sex Birthplace       Diet     Habitat Features  \\\n",
       "0   3     Lion  14.0    Male   Imported  Herbivore      Arctic    Hairy   \n",
       "1  10     Lion  30.0  Female   Imported  Herbivore  Rainforest  Spotted   \n",
       "2  16    Tiger  30.0  Female      Local  Carnivore      Arctic    Trunk   \n",
       "3  23  Giraffe  30.0    Male      Local  Carnivore      Arctic    Trunk   \n",
       "4  25     Bear  52.0  Female      Local  Carnivore    Savannah  Spotted   \n",
       "\n",
       "        Date  Visitors  \n",
       "0 2022-02-25       161  \n",
       "1 2022-07-25       169  \n",
       "2 2022-07-14       111  \n",
       "3 2022-05-26         1  \n",
       "4 2022-03-10        97  "
      ]
     },
     "execution_count": 90,
     "metadata": {},
     "output_type": "execute_result"
    }
   ],
   "source": [
    "zoo_data.head()"
   ]
  },
  {
   "cell_type": "code",
   "execution_count": 91,
   "id": "ebbbc44c-0caf-4702-a9da-d8fbb3fa9632",
   "metadata": {},
   "outputs": [
    {
     "data": {
      "text/html": [
       "<div>\n",
       "<style scoped>\n",
       "    .dataframe tbody tr th:only-of-type {\n",
       "        vertical-align: middle;\n",
       "    }\n",
       "\n",
       "    .dataframe tbody tr th {\n",
       "        vertical-align: top;\n",
       "    }\n",
       "\n",
       "    .dataframe thead th {\n",
       "        text-align: right;\n",
       "    }\n",
       "</style>\n",
       "<table border=\"1\" class=\"dataframe\">\n",
       "  <thead>\n",
       "    <tr style=\"text-align: right;\">\n",
       "      <th></th>\n",
       "      <th>count</th>\n",
       "      <th>mean</th>\n",
       "      <th>std</th>\n",
       "      <th>min</th>\n",
       "      <th>25%</th>\n",
       "      <th>50%</th>\n",
       "      <th>75%</th>\n",
       "      <th>max</th>\n",
       "    </tr>\n",
       "  </thead>\n",
       "  <tbody>\n",
       "    <tr>\n",
       "      <th>ID</th>\n",
       "      <td>365.0</td>\n",
       "      <td>520.243836</td>\n",
       "      <td>287.192049</td>\n",
       "      <td>3.0</td>\n",
       "      <td>267.0</td>\n",
       "      <td>528.0</td>\n",
       "      <td>768.0</td>\n",
       "      <td>999.0</td>\n",
       "    </tr>\n",
       "    <tr>\n",
       "      <th>Age</th>\n",
       "      <td>365.0</td>\n",
       "      <td>33.994521</td>\n",
       "      <td>15.022327</td>\n",
       "      <td>4.0</td>\n",
       "      <td>20.0</td>\n",
       "      <td>33.0</td>\n",
       "      <td>48.0</td>\n",
       "      <td>62.0</td>\n",
       "    </tr>\n",
       "    <tr>\n",
       "      <th>Visitors</th>\n",
       "      <td>365.0</td>\n",
       "      <td>98.315068</td>\n",
       "      <td>54.448907</td>\n",
       "      <td>0.0</td>\n",
       "      <td>57.0</td>\n",
       "      <td>98.0</td>\n",
       "      <td>140.0</td>\n",
       "      <td>236.0</td>\n",
       "    </tr>\n",
       "  </tbody>\n",
       "</table>\n",
       "</div>"
      ],
      "text/plain": [
       "          count        mean         std  min    25%    50%    75%    max\n",
       "ID        365.0  520.243836  287.192049  3.0  267.0  528.0  768.0  999.0\n",
       "Age       365.0   33.994521   15.022327  4.0   20.0   33.0   48.0   62.0\n",
       "Visitors  365.0   98.315068   54.448907  0.0   57.0   98.0  140.0  236.0"
      ]
     },
     "execution_count": 91,
     "metadata": {},
     "output_type": "execute_result"
    }
   ],
   "source": [
    "zoo_data.describe().T"
   ]
  },
  {
   "cell_type": "code",
   "execution_count": 92,
   "id": "d343704c-ef9e-4c06-b2aa-fee9e3ef9dbf",
   "metadata": {},
   "outputs": [
    {
     "name": "stdout",
     "output_type": "stream",
     "text": [
      "<class 'pandas.core.frame.DataFrame'>\n",
      "Int64Index: 365 entries, 0 to 364\n",
      "Data columns (total 10 columns):\n",
      " #   Column      Non-Null Count  Dtype         \n",
      "---  ------      --------------  -----         \n",
      " 0   ID          365 non-null    int64         \n",
      " 1   Species     365 non-null    object        \n",
      " 2   Age         365 non-null    float64       \n",
      " 3   Sex         365 non-null    object        \n",
      " 4   Birthplace  365 non-null    object        \n",
      " 5   Diet        365 non-null    object        \n",
      " 6   Habitat     365 non-null    object        \n",
      " 7   Features    365 non-null    object        \n",
      " 8   Date        365 non-null    datetime64[ns]\n",
      " 9   Visitors    365 non-null    int32         \n",
      "dtypes: datetime64[ns](1), float64(1), int32(1), int64(1), object(6)\n",
      "memory usage: 29.9+ KB\n"
     ]
    }
   ],
   "source": [
    "zoo_data.info()"
   ]
  },
  {
   "cell_type": "code",
   "execution_count": 93,
   "id": "3216b0f1-3466-4c20-9493-b4f3b1d59a7c",
   "metadata": {},
   "outputs": [
    {
     "data": {
      "text/plain": [
       "ID            0\n",
       "Species       0\n",
       "Age           0\n",
       "Sex           0\n",
       "Birthplace    0\n",
       "Diet          0\n",
       "Habitat       0\n",
       "Features      0\n",
       "Date          0\n",
       "Visitors      0\n",
       "dtype: int64"
      ]
     },
     "execution_count": 93,
     "metadata": {},
     "output_type": "execute_result"
    }
   ],
   "source": [
    "zoo_data.isnull().sum()"
   ]
  },
  {
   "cell_type": "code",
   "execution_count": 94,
   "id": "c9d0aa66-1fd3-4eae-aa45-e965e962ac20",
   "metadata": {},
   "outputs": [
    {
     "data": {
      "image/png": "[encoded data removed]",
      "text/plain": [
       "<Figure size 432x288 with 1 Axes>"
      ]
     },
     "metadata": {
      "needs_background": "light"
     },
     "output_type": "display_data"
    }
   ],
   "source": [
    "sns.boxplot(data=zoo_data);"
   ]
  },
  {
   "cell_type": "markdown",
   "id": "2ba608d6-f3be-4e07-bd29-2615e4b53dfd",
   "metadata": {},
   "source": [
    "# Veri Ön İşleme"
   ]
  },
  {
   "cell_type": "markdown",
   "id": "4b227f06-e232-4d72-9b15-ae2fd2299b59",
   "metadata": {},
   "source": [
    "### Bu kısımda kategorik değişkenleri numerik değişkenlere çevireceğiz. Visitors değişkeninde ki aykırı gözlemleri işleyeceğiz."
   ]
  },
  {
   "cell_type": "code",
   "execution_count": 95,
   "id": "09a10b9b-295f-4645-a943-40a6ae4c9808",
   "metadata": {},
   "outputs": [
    {
     "data": {
      "image/png": "[encoded data removed]",
      "text/plain": [
       "<Figure size 432x288 with 1 Axes>"
      ]
     },
     "metadata": {
      "needs_background": "light"
     },
     "output_type": "display_data"
    }
   ],
   "source": [
    "# Aykırı gözlem analizi\n",
    "\n",
    "visitors = zoo_data['Visitors']\n",
    "\n",
    "q1, q3 = np.percentile(visitors, [25, 75])\n",
    "iqr = q3 - q1\n",
    "alt_sinir = q1 - 1.5 * iqr\n",
    "ust_sinir = q3 + 1.5 * iqr\n",
    "\n",
    "zoo_data[zoo_data['Visitors'] < alt_sinir] = alt_sinir\n",
    "zoo_data[zoo_data['Visitors'] > ust_sinir] = ust_sinir\n",
    "\n",
    "sns.boxplot(data=zoo_data);"
   ]
  },
  {
   "cell_type": "code",
   "execution_count": 96,
   "id": "f9ce160f-3b58-42a5-8be8-6e4ef390470d",
   "metadata": {},
   "outputs": [
    {
     "data": {
      "text/html": [
       "<div>\n",
       "<style scoped>\n",
       "    .dataframe tbody tr th:only-of-type {\n",
       "        vertical-align: middle;\n",
       "    }\n",
       "\n",
       "    .dataframe tbody tr th {\n",
       "        vertical-align: top;\n",
       "    }\n",
       "\n",
       "    .dataframe thead th {\n",
       "        text-align: right;\n",
       "    }\n",
       "</style>\n",
       "<table border=\"1\" class=\"dataframe\">\n",
       "  <thead>\n",
       "    <tr style=\"text-align: right;\">\n",
       "      <th></th>\n",
       "      <th>ID</th>\n",
       "      <th>Species</th>\n",
       "      <th>Age</th>\n",
       "      <th>Sex</th>\n",
       "      <th>Birthplace</th>\n",
       "      <th>Diet</th>\n",
       "      <th>Habitat</th>\n",
       "      <th>Features</th>\n",
       "      <th>Date</th>\n",
       "      <th>Visitors</th>\n",
       "    </tr>\n",
       "  </thead>\n",
       "  <tbody>\n",
       "    <tr>\n",
       "      <th>0</th>\n",
       "      <td>3.0</td>\n",
       "      <td>Lion</td>\n",
       "      <td>14.0</td>\n",
       "      <td>Male</td>\n",
       "      <td>Imported</td>\n",
       "      <td>Herbivore</td>\n",
       "      <td>Arctic</td>\n",
       "      <td>Hairy</td>\n",
       "      <td>2022-02-25 00:00:00</td>\n",
       "      <td>161.0</td>\n",
       "    </tr>\n",
       "    <tr>\n",
       "      <th>1</th>\n",
       "      <td>10.0</td>\n",
       "      <td>Lion</td>\n",
       "      <td>30.0</td>\n",
       "      <td>Female</td>\n",
       "      <td>Imported</td>\n",
       "      <td>Herbivore</td>\n",
       "      <td>Rainforest</td>\n",
       "      <td>Spotted</td>\n",
       "      <td>2022-07-25 00:00:00</td>\n",
       "      <td>169.0</td>\n",
       "    </tr>\n",
       "    <tr>\n",
       "      <th>2</th>\n",
       "      <td>16.0</td>\n",
       "      <td>Tiger</td>\n",
       "      <td>30.0</td>\n",
       "      <td>Female</td>\n",
       "      <td>Local</td>\n",
       "      <td>Carnivore</td>\n",
       "      <td>Arctic</td>\n",
       "      <td>Trunk</td>\n",
       "      <td>2022-07-14 00:00:00</td>\n",
       "      <td>111.0</td>\n",
       "    </tr>\n",
       "    <tr>\n",
       "      <th>3</th>\n",
       "      <td>23.0</td>\n",
       "      <td>Giraffe</td>\n",
       "      <td>30.0</td>\n",
       "      <td>Male</td>\n",
       "      <td>Local</td>\n",
       "      <td>Carnivore</td>\n",
       "      <td>Arctic</td>\n",
       "      <td>Trunk</td>\n",
       "      <td>2022-05-26 00:00:00</td>\n",
       "      <td>1.0</td>\n",
       "    </tr>\n",
       "    <tr>\n",
       "      <th>4</th>\n",
       "      <td>25.0</td>\n",
       "      <td>Bear</td>\n",
       "      <td>52.0</td>\n",
       "      <td>Female</td>\n",
       "      <td>Local</td>\n",
       "      <td>Carnivore</td>\n",
       "      <td>Savannah</td>\n",
       "      <td>Spotted</td>\n",
       "      <td>2022-03-10 00:00:00</td>\n",
       "      <td>97.0</td>\n",
       "    </tr>\n",
       "  </tbody>\n",
       "</table>\n",
       "</div>"
      ],
      "text/plain": [
       "     ID  Species   Age     Sex Birthplace       Diet     Habitat Features  \\\n",
       "0   3.0     Lion  14.0    Male   Imported  Herbivore      Arctic    Hairy   \n",
       "1  10.0     Lion  30.0  Female   Imported  Herbivore  Rainforest  Spotted   \n",
       "2  16.0    Tiger  30.0  Female      Local  Carnivore      Arctic    Trunk   \n",
       "3  23.0  Giraffe  30.0    Male      Local  Carnivore      Arctic    Trunk   \n",
       "4  25.0     Bear  52.0  Female      Local  Carnivore    Savannah  Spotted   \n",
       "\n",
       "                  Date  Visitors  \n",
       "0  2022-02-25 00:00:00     161.0  \n",
       "1  2022-07-25 00:00:00     169.0  \n",
       "2  2022-07-14 00:00:00     111.0  \n",
       "3  2022-05-26 00:00:00       1.0  \n",
       "4  2022-03-10 00:00:00      97.0  "
      ]
     },
     "execution_count": 96,
     "metadata": {},
     "output_type": "execute_result"
    }
   ],
   "source": [
    "zoo_data.head()"
   ]
  },
  {
   "cell_type": "code",
   "execution_count": 97,
   "id": "2e3e6bcd-0824-47c2-9729-6bab9d9c2f3e",
   "metadata": {},
   "outputs": [],
   "source": [
    "# Kategorik değişkenleri nümerik değişkenlere dönüştürme\n",
    "\n",
    "from sklearn.preprocessing import LabelEncoder, scale\n",
    "\n",
    "lbe = LabelEncoder()\n",
    "zoo_data['Species'] = lbe.fit_transform(zoo_data['Species'])\n",
    "zoo_data['Sex'] = lbe.fit_transform(zoo_data['Sex'])\n",
    "zoo_data['Birthplace'] = lbe.fit_transform(zoo_data['Birthplace'])\n",
    "zoo_data['Diet'] = lbe.fit_transform(zoo_data['Diet'])\n",
    "zoo_data['Habitat'] = lbe.fit_transform(zoo_data['Habitat'])\n",
    "zoo_data['Features'] = lbe.fit_transform(zoo_data['Features'])"
   ]
  },
  {
   "cell_type": "code",
   "execution_count": 98,
   "id": "4d73652e-23f7-482e-a792-c7cdcbd8dbf0",
   "metadata": {},
   "outputs": [
    {
     "data": {
      "text/plain": [
       "array([3, 4, 2, 0, 1])"
      ]
     },
     "execution_count": 98,
     "metadata": {},
     "output_type": "execute_result"
    }
   ],
   "source": [
    "zoo_data.Species.unique()\n",
    "# 0: Tiger   # 1: Bear   # 2: Giraffe   # 3: Lion   # 4: Elephant"
   ]
  },
  {
   "cell_type": "code",
   "execution_count": 99,
   "id": "7955b0fc-f292-4883-b2e3-83b2320188af",
   "metadata": {},
   "outputs": [
    {
     "data": {
      "text/plain": [
       "array([1, 0])"
      ]
     },
     "execution_count": 99,
     "metadata": {},
     "output_type": "execute_result"
    }
   ],
   "source": [
    "zoo_data.Sex.unique()\n",
    "# 1: female   # 0: male"
   ]
  },
  {
   "cell_type": "code",
   "execution_count": 100,
   "id": "1635b60c-d719-4139-ac53-25bc9f157f78",
   "metadata": {},
   "outputs": [
    {
     "data": {
      "text/plain": [
       "array([0, 1])"
      ]
     },
     "execution_count": 100,
     "metadata": {},
     "output_type": "execute_result"
    }
   ],
   "source": [
    "zoo_data.Birthplace.unique()\n",
    "# 1: Local    # 0: Imported"
   ]
  },
  {
   "cell_type": "code",
   "execution_count": 101,
   "id": "5ffd6800-c6b0-4665-b8d6-4e78cfcaf8bd",
   "metadata": {},
   "outputs": [
    {
     "data": {
      "text/plain": [
       "array([1, 0])"
      ]
     },
     "execution_count": 101,
     "metadata": {},
     "output_type": "execute_result"
    }
   ],
   "source": [
    "zoo_data.Diet.unique()\n",
    "# 0: Herbivore   # 1: Carnivore"
   ]
  },
  {
   "cell_type": "code",
   "execution_count": 102,
   "id": "1d6f3440-b930-4a3c-a5f2-1acb21f9896e",
   "metadata": {},
   "outputs": [
    {
     "data": {
      "text/plain": [
       "array([0, 2, 3, 1])"
      ]
     },
     "execution_count": 102,
     "metadata": {},
     "output_type": "execute_result"
    }
   ],
   "source": [
    "zoo_data.Habitat.unique()\n",
    "# 0: Desert   # 1: Arctic   # 2: Rainforest   # 3: Savannah"
   ]
  },
  {
   "cell_type": "code",
   "execution_count": 103,
   "id": "d1f78572-13fe-4233-8b9d-08ab28dd0e21",
   "metadata": {},
   "outputs": [
    {
     "data": {
      "text/plain": [
       "array([0, 1, 3, 2])"
      ]
     },
     "execution_count": 103,
     "metadata": {},
     "output_type": "execute_result"
    }
   ],
   "source": [
    "zoo_data.Features.unique()\n",
    "# 0: Hairy   # 1: Striped   # 2: Spotted    # 3: Trunk"
   ]
  },
  {
   "cell_type": "markdown",
   "id": "03c187ae-8cb8-4d12-be12-fda542355dc2",
   "metadata": {},
   "source": [
    "# Model İşlemleri"
   ]
  },
  {
   "cell_type": "code",
   "execution_count": 104,
   "id": "810f5e65-376d-4a3b-b446-c6962c809f3e",
   "metadata": {},
   "outputs": [],
   "source": [
    "from sklearn.linear_model import LinearRegression, Lasso, Ridge, ElasticNet\n",
    "from sklearn.metrics import r2_score, mean_squared_error\n",
    "from sklearn.model_selection import train_test_split, GridSearchCV"
   ]
  },
  {
   "cell_type": "code",
   "execution_count": 105,
   "id": "451597ab-ee04-471e-b7f4-6cc0790e9f09",
   "metadata": {},
   "outputs": [],
   "source": [
    "# Bağımlı ve bağımsız değişkenlerimizi oluşturalım.\n",
    "\n",
    "X = zoo_data.drop(['ID', 'Visitors', 'Date'], axis=1)\n",
    "y = zoo_data['Visitors']"
   ]
  },
  {
   "cell_type": "code",
   "execution_count": 117,
   "id": "9e6f51a1-0734-470d-a528-810415ee97c8",
   "metadata": {},
   "outputs": [
    {
     "data": {
      "text/html": [
       "<div>\n",
       "<style scoped>\n",
       "    .dataframe tbody tr th:only-of-type {\n",
       "        vertical-align: middle;\n",
       "    }\n",
       "\n",
       "    .dataframe tbody tr th {\n",
       "        vertical-align: top;\n",
       "    }\n",
       "\n",
       "    .dataframe thead th {\n",
       "        text-align: right;\n",
       "    }\n",
       "</style>\n",
       "<table border=\"1\" class=\"dataframe\">\n",
       "  <thead>\n",
       "    <tr style=\"text-align: right;\">\n",
       "      <th></th>\n",
       "      <th>Species</th>\n",
       "      <th>Age</th>\n",
       "      <th>Sex</th>\n",
       "      <th>Birthplace</th>\n",
       "      <th>Diet</th>\n",
       "      <th>Habitat</th>\n",
       "      <th>Features</th>\n",
       "    </tr>\n",
       "  </thead>\n",
       "  <tbody>\n",
       "    <tr>\n",
       "      <th>0</th>\n",
       "      <td>3</td>\n",
       "      <td>14.0</td>\n",
       "      <td>1</td>\n",
       "      <td>0</td>\n",
       "      <td>1</td>\n",
       "      <td>0</td>\n",
       "      <td>0</td>\n",
       "    </tr>\n",
       "    <tr>\n",
       "      <th>1</th>\n",
       "      <td>3</td>\n",
       "      <td>30.0</td>\n",
       "      <td>0</td>\n",
       "      <td>0</td>\n",
       "      <td>1</td>\n",
       "      <td>2</td>\n",
       "      <td>1</td>\n",
       "    </tr>\n",
       "    <tr>\n",
       "      <th>2</th>\n",
       "      <td>4</td>\n",
       "      <td>30.0</td>\n",
       "      <td>0</td>\n",
       "      <td>1</td>\n",
       "      <td>0</td>\n",
       "      <td>0</td>\n",
       "      <td>3</td>\n",
       "    </tr>\n",
       "    <tr>\n",
       "      <th>3</th>\n",
       "      <td>2</td>\n",
       "      <td>30.0</td>\n",
       "      <td>1</td>\n",
       "      <td>1</td>\n",
       "      <td>0</td>\n",
       "      <td>0</td>\n",
       "      <td>3</td>\n",
       "    </tr>\n",
       "    <tr>\n",
       "      <th>4</th>\n",
       "      <td>0</td>\n",
       "      <td>52.0</td>\n",
       "      <td>0</td>\n",
       "      <td>1</td>\n",
       "      <td>0</td>\n",
       "      <td>3</td>\n",
       "      <td>1</td>\n",
       "    </tr>\n",
       "    <tr>\n",
       "      <th>...</th>\n",
       "      <td>...</td>\n",
       "      <td>...</td>\n",
       "      <td>...</td>\n",
       "      <td>...</td>\n",
       "      <td>...</td>\n",
       "      <td>...</td>\n",
       "      <td>...</td>\n",
       "    </tr>\n",
       "    <tr>\n",
       "      <th>360</th>\n",
       "      <td>4</td>\n",
       "      <td>19.0</td>\n",
       "      <td>1</td>\n",
       "      <td>0</td>\n",
       "      <td>0</td>\n",
       "      <td>0</td>\n",
       "      <td>1</td>\n",
       "    </tr>\n",
       "    <tr>\n",
       "      <th>361</th>\n",
       "      <td>3</td>\n",
       "      <td>23.0</td>\n",
       "      <td>1</td>\n",
       "      <td>1</td>\n",
       "      <td>0</td>\n",
       "      <td>1</td>\n",
       "      <td>0</td>\n",
       "    </tr>\n",
       "    <tr>\n",
       "      <th>362</th>\n",
       "      <td>4</td>\n",
       "      <td>32.0</td>\n",
       "      <td>0</td>\n",
       "      <td>1</td>\n",
       "      <td>0</td>\n",
       "      <td>0</td>\n",
       "      <td>2</td>\n",
       "    </tr>\n",
       "    <tr>\n",
       "      <th>363</th>\n",
       "      <td>4</td>\n",
       "      <td>11.0</td>\n",
       "      <td>0</td>\n",
       "      <td>1</td>\n",
       "      <td>0</td>\n",
       "      <td>0</td>\n",
       "      <td>2</td>\n",
       "    </tr>\n",
       "    <tr>\n",
       "      <th>364</th>\n",
       "      <td>0</td>\n",
       "      <td>17.0</td>\n",
       "      <td>1</td>\n",
       "      <td>1</td>\n",
       "      <td>0</td>\n",
       "      <td>3</td>\n",
       "      <td>3</td>\n",
       "    </tr>\n",
       "  </tbody>\n",
       "</table>\n",
       "<p>365 rows × 7 columns</p>\n",
       "</div>"
      ],
      "text/plain": [
       "     Species   Age  Sex  Birthplace  Diet  Habitat  Features\n",
       "0          3  14.0    1           0     1        0         0\n",
       "1          3  30.0    0           0     1        2         1\n",
       "2          4  30.0    0           1     0        0         3\n",
       "3          2  30.0    1           1     0        0         3\n",
       "4          0  52.0    0           1     0        3         1\n",
       "..       ...   ...  ...         ...   ...      ...       ...\n",
       "360        4  19.0    1           0     0        0         1\n",
       "361        3  23.0    1           1     0        1         0\n",
       "362        4  32.0    0           1     0        0         2\n",
       "363        4  11.0    0           1     0        0         2\n",
       "364        0  17.0    1           1     0        3         3\n",
       "\n",
       "[365 rows x 7 columns]"
      ]
     },
     "execution_count": 117,
     "metadata": {},
     "output_type": "execute_result"
    }
   ],
   "source": [
    "X"
   ]
  },
  {
   "cell_type": "code",
   "execution_count": 106,
   "id": "636e6ce6-9ba0-415b-a0e0-9aa5453ac999",
   "metadata": {},
   "outputs": [],
   "source": [
    "# eğitim ve test setlerini ayıralım.\n",
    "X_train, X_test, y_train, y_test = train_test_split(X, y, test_size=0.2, random_state=42)"
   ]
  },
  {
   "cell_type": "code",
   "execution_count": 107,
   "id": "8647fb0b-0084-4ebe-aa86-87df68261c5c",
   "metadata": {},
   "outputs": [
    {
     "name": "stdout",
     "output_type": "stream",
     "text": [
      "LinearRegression:  r2: -0.057812771720189726, mse: 2522.75661830061\n",
      "Lasso:  r2: -0.049976605028753784, mse: 2504.0683003757104\n",
      "Ridge:  r2: -0.05764242879751036, mse: 2522.350370855828\n",
      "ElasticNet:  r2: -0.045887867828748874, mse: 2494.317152433877\n"
     ]
    }
   ],
   "source": [
    "# Modellerimizi oluşturalım ve seçelim.\n",
    "\n",
    "models = {\n",
    "    'LinearRegression': LinearRegression(),\n",
    "    'Lasso': Lasso(),\n",
    "    'Ridge': Ridge(),\n",
    "    'ElasticNet': ElasticNet()\n",
    "}\n",
    "\n",
    "for name, model in models.items():\n",
    "    model.fit(X_train, y_train)\n",
    "    y_pred = model.predict(X_test)\n",
    "    mse = mean_squared_error(y_test, y_pred)\n",
    "    r2 = r2_score(y_test, y_pred)\n",
    "    print(f'{name}:  r2: {r2}, mse: {mse}')"
   ]
  },
  {
   "cell_type": "code",
   "execution_count": 108,
   "id": "9b02bc2e-25f4-4afa-9ad1-1f0bc982fb61",
   "metadata": {},
   "outputs": [
    {
     "name": "stdout",
     "output_type": "stream",
     "text": [
      "random_state=0 değeri, LinearRegression modeli için R-Kare değeri: 0.01208497303759537\n",
      "random_state=0 değeri, Lasso modeli için R-Kare değeri: 0.005478771161060325\n",
      "random_state=0 değeri, Ridge modeli için R-Kare değeri: 0.01204597848773803\n",
      "random_state=0 değeri, ElasticNet modeli için R-Kare değeri: 0.0062232056588251705\n",
      "random_state=10 değeri, LinearRegression modeli için R-Kare değeri: 0.009277548667309343\n",
      "random_state=10 değeri, Lasso modeli için R-Kare değeri: -0.0016790725688924368\n",
      "random_state=10 değeri, Ridge modeli için R-Kare değeri: 0.009152410992077753\n",
      "random_state=10 değeri, ElasticNet modeli için R-Kare değeri: 0.0013344021062106082\n",
      "random_state=20 değeri, LinearRegression modeli için R-Kare değeri: -0.04469729279995449\n",
      "random_state=20 değeri, Lasso modeli için R-Kare değeri: -0.024676381538627945\n",
      "random_state=20 değeri, Ridge modeli için R-Kare değeri: -0.04438162598055162\n",
      "random_state=20 değeri, ElasticNet modeli için R-Kare değeri: -0.026394765706334367\n",
      "random_state=42 değeri, LinearRegression modeli için R-Kare değeri: -0.057812771720189726\n",
      "random_state=42 değeri, Lasso modeli için R-Kare değeri: -0.049976605028753784\n",
      "random_state=42 değeri, Ridge modeli için R-Kare değeri: -0.05764242879751036\n",
      "random_state=42 değeri, ElasticNet modeli için R-Kare değeri: -0.045887867828748874\n",
      "random_state=60 değeri, LinearRegression modeli için R-Kare değeri: -0.07421853726553285\n",
      "random_state=60 değeri, Lasso modeli için R-Kare değeri: -0.06134422439297382\n",
      "random_state=60 değeri, Ridge modeli için R-Kare değeri: -0.07387388192147482\n",
      "random_state=60 değeri, ElasticNet modeli için R-Kare değeri: -0.048176673200318376\n",
      "random_state=80 değeri, LinearRegression modeli için R-Kare değeri: -0.058865531752893\n",
      "random_state=80 değeri, Lasso modeli için R-Kare değeri: -0.031259739833914724\n",
      "random_state=80 değeri, Ridge modeli için R-Kare değeri: -0.058431613974664565\n",
      "random_state=80 değeri, ElasticNet modeli için R-Kare değeri: -0.027379936196027188\n",
      "random_state=100 değeri, LinearRegression modeli için R-Kare değeri: -0.06016666051132402\n",
      "random_state=100 değeri, Lasso modeli için R-Kare değeri: -0.03603947936457952\n",
      "random_state=100 değeri, Ridge modeli için R-Kare değeri: -0.05946105612549646\n",
      "random_state=100 değeri, ElasticNet modeli için R-Kare değeri: -0.023003786623526423\n"
     ]
    }
   ],
   "source": [
    "# en iyi random_state değerini bulalım.\n",
    "randoms = [0, 10, 20, 42, 60, 80, 100]\n",
    "\n",
    "for element in randoms:\n",
    "    X_train, X_test, y_train, y_test = train_test_split(X, y, test_size=0.2, random_state=element)\n",
    "    for name, model in models.items():\n",
    "        model.fit(X_train, y_train)\n",
    "        y_pred = model.predict(X_test)\n",
    "        r2 = r2_score(y_test, y_pred)\n",
    "        print(f'random_state={element} değeri, {name} modeli için R-Kare değeri: {r2}')"
   ]
  },
  {
   "cell_type": "markdown",
   "id": "6354b376-0771-4a19-8c56-8f7bf30b9081",
   "metadata": {},
   "source": [
    "### En iyi değer için model ve random_state değeri: ElasticNet,  10\n",
    "### Şimdi ise bulduğumuz değerleri kullanarak modelimizi tekrar oluşturalım."
   ]
  },
  {
   "cell_type": "code",
   "execution_count": 109,
   "id": "d372b3f8-b4ee-4b26-8deb-67f84fa94c80",
   "metadata": {},
   "outputs": [
    {
     "name": "stdout",
     "output_type": "stream",
     "text": [
      "R-Kare Değeri:  0.0013344021062106082\n",
      "MSE Değeri:  3047.8438234513987\n"
     ]
    }
   ],
   "source": [
    "X_train, X_test, y_train, y_test = train_test_split(X, y, test_size=0.2, random_state=10)\n",
    "model = ElasticNet().fit(X_train, y_train)\n",
    "y_pred = model.predict(X_test)\n",
    "r2 = r2_score(y_test, y_pred)\n",
    "mse = mean_squared_error(y_test, y_pred)\n",
    "print('R-Kare Değeri: ', r2)\n",
    "print('MSE Değeri: ', mse)"
   ]
  },
  {
   "cell_type": "code",
   "execution_count": 110,
   "id": "766706b1-8bff-48d6-875b-03b434491f8e",
   "metadata": {},
   "outputs": [
    {
     "data": {
      "text/plain": [
       "array([ 0.32673145, -0.0631154 ,  0.08287532, -1.00792343,  0.6530735 ,\n",
       "        0.95101967,  1.35746833])"
      ]
     },
     "execution_count": 110,
     "metadata": {},
     "output_type": "execute_result"
    }
   ],
   "source": [
    "# Modelimizin bulmuş olduğu katsayılar.\n",
    "model.coef_"
   ]
  },
  {
   "cell_type": "code",
   "execution_count": 111,
   "id": "a4f1d7ae-0ec4-4a21-b563-2d1b252d6538",
   "metadata": {},
   "outputs": [
    {
     "data": {
      "text/plain": [
       "96.10733290087992"
      ]
     },
     "execution_count": 111,
     "metadata": {},
     "output_type": "execute_result"
    }
   ],
   "source": [
    "# Fonksiyondaki bağımsız terim.\n",
    "model.intercept_"
   ]
  },
  {
   "cell_type": "markdown",
   "id": "c94ec34e-851a-48de-b847-bf47c54b96e9",
   "metadata": {},
   "source": [
    "# Model Tuning"
   ]
  },
  {
   "cell_type": "code",
   "execution_count": 112,
   "id": "24366c64-1db4-4c6a-a0b2-053945472dd7",
   "metadata": {},
   "outputs": [
    {
     "name": "stdout",
     "output_type": "stream",
     "text": [
      "En iyi parametreler:  {'alpha': 1, 'fit_intercept': True, 'random_state': 10, 'selection': 'random'}\n",
      "En iyi skor:  -0.034147842478454524\n"
     ]
    }
   ],
   "source": [
    "params = {'alpha':[0.1, 0.2, 0.3, 0.4, 0.5, 0.6, 0.7, 0.8, 0.9, 1], 'fit_intercept':[True, False],\n",
    "          'selection':['cyclic', 'random'], 'random_state':[0, 10, 20, 42, 60, 80, 100]}\n",
    "grid = GridSearchCV(estimator=model, param_grid=params, cv=5)\n",
    "grid_model = grid.fit(X_train, y_train)\n",
    "grid_pred = grid_model.predict(X_test)\n",
    "\n",
    "print('En iyi parametreler: ', grid_model.best_params_)\n",
    "print('En iyi skor: ', grid_model.best_score_)"
   ]
  },
  {
   "cell_type": "code",
   "execution_count": 113,
   "id": "72e335b8-d58a-40a7-b81b-2dce60a5ac84",
   "metadata": {},
   "outputs": [
    {
     "name": "stdout",
     "output_type": "stream",
     "text": [
      "R-Kare Değeri:  0.001334285505799615\n"
     ]
    }
   ],
   "source": [
    "# En iyi hiperparametrelere göre modelimizi tekrar oluşturalım.\n",
    "model = ElasticNet(alpha=1, fit_intercept=True, random_state=20, selection='random')\n",
    "model.fit(X_train, y_train)\n",
    "y_pred = model.predict(X_test)\n",
    "r2 = r2_score(y_test, y_pred)\n",
    "print('R-Kare Değeri: ', r2)"
   ]
  },
  {
   "cell_type": "markdown",
   "id": "77bbd50e-f6b4-4e6d-b74a-0f0694887ec2",
   "metadata": {},
   "source": [
    "# Tahmin"
   ]
  },
  {
   "cell_type": "code",
   "execution_count": 114,
   "id": "ba11bef8-7c6b-488d-8f26-8aa1ac491d96",
   "metadata": {},
   "outputs": [
    {
     "data": {
      "text/html": [
       "<div>\n",
       "<style scoped>\n",
       "    .dataframe tbody tr th:only-of-type {\n",
       "        vertical-align: middle;\n",
       "    }\n",
       "\n",
       "    .dataframe tbody tr th {\n",
       "        vertical-align: top;\n",
       "    }\n",
       "\n",
       "    .dataframe thead th {\n",
       "        text-align: right;\n",
       "    }\n",
       "</style>\n",
       "<table border=\"1\" class=\"dataframe\">\n",
       "  <thead>\n",
       "    <tr style=\"text-align: right;\">\n",
       "      <th></th>\n",
       "      <th>ID</th>\n",
       "      <th>Species</th>\n",
       "      <th>Age</th>\n",
       "      <th>Sex</th>\n",
       "      <th>Birthplace</th>\n",
       "      <th>Diet</th>\n",
       "      <th>Habitat</th>\n",
       "      <th>Features</th>\n",
       "      <th>Date</th>\n",
       "      <th>Visitors</th>\n",
       "    </tr>\n",
       "  </thead>\n",
       "  <tbody>\n",
       "    <tr>\n",
       "      <th>0</th>\n",
       "      <td>3.0</td>\n",
       "      <td>3</td>\n",
       "      <td>14.0</td>\n",
       "      <td>1</td>\n",
       "      <td>0</td>\n",
       "      <td>1</td>\n",
       "      <td>0</td>\n",
       "      <td>0</td>\n",
       "      <td>2022-02-25 00:00:00</td>\n",
       "      <td>161.0</td>\n",
       "    </tr>\n",
       "    <tr>\n",
       "      <th>1</th>\n",
       "      <td>10.0</td>\n",
       "      <td>3</td>\n",
       "      <td>30.0</td>\n",
       "      <td>0</td>\n",
       "      <td>0</td>\n",
       "      <td>1</td>\n",
       "      <td>2</td>\n",
       "      <td>1</td>\n",
       "      <td>2022-07-25 00:00:00</td>\n",
       "      <td>169.0</td>\n",
       "    </tr>\n",
       "    <tr>\n",
       "      <th>2</th>\n",
       "      <td>16.0</td>\n",
       "      <td>4</td>\n",
       "      <td>30.0</td>\n",
       "      <td>0</td>\n",
       "      <td>1</td>\n",
       "      <td>0</td>\n",
       "      <td>0</td>\n",
       "      <td>3</td>\n",
       "      <td>2022-07-14 00:00:00</td>\n",
       "      <td>111.0</td>\n",
       "    </tr>\n",
       "    <tr>\n",
       "      <th>3</th>\n",
       "      <td>23.0</td>\n",
       "      <td>2</td>\n",
       "      <td>30.0</td>\n",
       "      <td>1</td>\n",
       "      <td>1</td>\n",
       "      <td>0</td>\n",
       "      <td>0</td>\n",
       "      <td>3</td>\n",
       "      <td>2022-05-26 00:00:00</td>\n",
       "      <td>1.0</td>\n",
       "    </tr>\n",
       "    <tr>\n",
       "      <th>4</th>\n",
       "      <td>25.0</td>\n",
       "      <td>0</td>\n",
       "      <td>52.0</td>\n",
       "      <td>0</td>\n",
       "      <td>1</td>\n",
       "      <td>0</td>\n",
       "      <td>3</td>\n",
       "      <td>1</td>\n",
       "      <td>2022-03-10 00:00:00</td>\n",
       "      <td>97.0</td>\n",
       "    </tr>\n",
       "  </tbody>\n",
       "</table>\n",
       "</div>"
      ],
      "text/plain": [
       "     ID  Species   Age  Sex  Birthplace  Diet  Habitat  Features  \\\n",
       "0   3.0        3  14.0    1           0     1        0         0   \n",
       "1  10.0        3  30.0    0           0     1        2         1   \n",
       "2  16.0        4  30.0    0           1     0        0         3   \n",
       "3  23.0        2  30.0    1           1     0        0         3   \n",
       "4  25.0        0  52.0    0           1     0        3         1   \n",
       "\n",
       "                  Date  Visitors  \n",
       "0  2022-02-25 00:00:00     161.0  \n",
       "1  2022-07-25 00:00:00     169.0  \n",
       "2  2022-07-14 00:00:00     111.0  \n",
       "3  2022-05-26 00:00:00       1.0  \n",
       "4  2022-03-10 00:00:00      97.0  "
      ]
     },
     "execution_count": 114,
     "metadata": {},
     "output_type": "execute_result"
    }
   ],
   "source": [
    "zoo_data.head()\n",
    "## Species: # 0: Tiger   # 1: Bear   # 2: Giraffe   # 3: Lion   # 4: Elephant\n",
    "## Sex: # 1: female   # 0: male\n",
    "## Birthplace: # 1: Local    # 0: Imported\n",
    "## Diet: # 0: Herbivore   # 1: Carnivore\n",
    "## Habitat: # 0: Desert   # 1: Arctic   # 2: Rainforest   # 3: Savannah\n",
    "## Features: # 0: Hairy   # 1: Striped   # 2: Spotted    # 3: Trunk"
   ]
  },
  {
   "cell_type": "code",
   "execution_count": 125,
   "id": "220e4506-dd04-45d6-9a75-4cc76017aa9c",
   "metadata": {},
   "outputs": [
    {
     "name": "stdin",
     "output_type": "stream",
     "text": [
      "Hayvanın Türünü Giriniz:  tiger\n",
      "Hayvanın Yaşını Giriniz:  30\n",
      "Hayvanın Cinsiyetini Giriniz:  male\n",
      "Hayvanın Doğum Yerini Giriniz:  local\n",
      "Hayvanın beslenme türünü giriniz:  carnivore\n",
      "Hayvanın Yaşadığı Alanı Giriniz:  savannah\n",
      "Hayvanın Özelliğini Giriniz:  trunk\n"
     ]
    },
    {
     "name": "stdout",
     "output_type": "stream",
     "text": [
      "----------------------------------------------------\n",
      "Tahmini Ziyaretçi Sayısı:  100\n"
     ]
    },
    {
     "name": "stderr",
     "output_type": "stream",
     "text": [
      "C:\\Users\\murat\\anaconda3\\lib\\site-packages\\sklearn\\base.py:450: UserWarning: X does not have valid feature names, but ElasticNet was fitted with feature names\n",
      "  warnings.warn(\n"
     ]
    }
   ],
   "source": [
    "species = input('Hayvanın Türünü Giriniz: ')\n",
    "age = float(input('Hayvanın Yaşını Giriniz: '))\n",
    "sex = input('Hayvanın Cinsiyetini Giriniz: ')\n",
    "birthplace = input('Hayvanın Doğum Yerini Giriniz: ')\n",
    "diet = input('Hayvanın beslenme türünü giriniz: ')\n",
    "habitat = input('Hayvanın Yaşadığı Alanı Giriniz: ')\n",
    "features = input('Hayvanın Özelliğini Giriniz: ')\n",
    "\n",
    "if species.casefold() == 'tiger':\n",
    "    species = 0\n",
    "elif species.casefold() == 'bear':\n",
    "    species = 1\n",
    "elif species.casefold() == 'giraffe':\n",
    "    species = 2\n",
    "elif species.casefold() == 'lion':\n",
    "    species = 3\n",
    "elif species.casefold() == 'elephant':\n",
    "    species = 4\n",
    "\n",
    "if sex.casefold() == 'female':\n",
    "    sex = 1\n",
    "elif sex.casefold() == 'male':\n",
    "    sex = 0\n",
    "\n",
    "if birthplace.casefold() == 'local':\n",
    "    birthplace = 1\n",
    "elif birthplace.casefold() == 'imported':\n",
    "    birthplace = 0\n",
    "\n",
    "if diet.casefold() == 'herbivore':\n",
    "    diet = 0\n",
    "elif diet.casefold() == 'carnivore':\n",
    "    diet= 1\n",
    "    \n",
    "## Habitat: # 0: Desert   # 1: Arctic   # 2: Rainforest   # 3: Savannah\n",
    "if habitat.casefold() == 'desert':\n",
    "    habitat = 0\n",
    "elif habitat.casefold() == 'arctic':\n",
    "    habitat = 1\n",
    "elif habitat.casefold() == 'rainforest':\n",
    "    habitat = 2\n",
    "elif habitat.casefold() == 'savannah':\n",
    "    habitat = 3\n",
    "    \n",
    "## Features: # 0: Hairy   # 1: Striped   # 2: Spotted    # 3: Trunk\n",
    "if features.casefold() == 'hairy':\n",
    "    features = 0\n",
    "elif features.casefold() == 'striped':\n",
    "    features = 1\n",
    "elif features.casefold() == 'spotted':\n",
    "    features = 2\n",
    "elif features.casefold() == 'trunk':\n",
    "    features = 3\n",
    "    \n",
    "user_pred = model.predict([[species, age, sex, birthplace, diet, habitat, features]])\n",
    "print('----------------------------------------------------')\n",
    "print('Tahmini Ziyaretçi Sayısı: ', int(user_pred))\n",
    "## Species: # 0: Tiger   # 1: Bear   # 2: Giraffe   # 3: Lion   # 4: Elephant\n",
    "## Sex: # 1: female   # 0: male\n",
    "## Birthplace: # 1: Local    # 0: Imported\n",
    "## Diet: # 0: Herbivore   # 1: Carnivore\n",
    "## Habitat: # 0: Desert   # 1: Arctic   # 2: Rainforest   # 3: Savannah\n",
    "## Features: # 0: Hairy   # 1: Striped   # 2: Spotted    # 3: Trunk"
   ]
  },
  {
   "cell_type": "markdown",
   "id": "c465564b-b847-4b58-9b0e-9fd3b76d711c",
   "metadata": {},
   "source": [
    "# Sonuç \n",
    "\n",
    "### Üzerinde çalıştığımız veri setini kendimiz oluşturduğumuz için gerçek hayat senaryosu değildir. Amacımız bir veri bilimi projesinde yapılması gereken işlemleri yaparak kendimizi geliştirmektir. Bir gerçek hayat projesinde, R-kare değeri ve ortalama kare hata değeri bu örnekteki gibi aykırı gözüktüğünde, eksik ve aykırı gözlem analizini tekrar gözden geçirmek, Bağımsız değişkenleri seçerken bir inceleme yapmak ve belki de elemek, doğru modeli seçmek, olabildiğince kapsamlı model tuning ve model doğrulama işlemlerini yapmak ve belki de verilerin verimsiz olduğuna karar verip veri seti üzerinde değişiklik-onarma yapmak isteyebiliriz."
   ]
  }
 ],
 "metadata": {
  "kernelspec": {
   "display_name": "Python 3 (ipykernel)",
   "language": "python",
   "name": "python3"
  },
  "language_info": {
   "codemirror_mode": {
    "name": "ipython",
    "version": 3
   },
   "file_extension": ".py",
   "mimetype": "text/x-python",
   "name": "python",
   "nbconvert_exporter": "python",
   "pygments_lexer": "ipython3",
   "version": "3.9.12"
  }
 },
 "nbformat": 4,
 "nbformat_minor": 5
}
